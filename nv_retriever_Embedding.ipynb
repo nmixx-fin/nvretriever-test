{
 "cells": [
  {
   "cell_type": "markdown",
   "metadata": {},
   "source": [
    "# NV-Retriever 방법론 실험\n",
    "\n",
    "1. Teacher - Base Model 선정\n",
    "    - Teacher 후보 모델 (한국어 / 영어)\n",
    "        - https://huggingface.co/DeepMount00/Llama-3.1-8b-ITA\n",
    "        - https://huggingface.co/AIDX-ktds/ktdsbaseLM-v0.12-based-on-openchat3.5\n",
    "    - Base 후보 모델 (한국어 / 영어)\n",
    "        - https://huggingface.co/intfloat/multilingual-e5-large\n",
    "\n",
    "2. Dataset 구성\n",
    "    - 사용할 데이터셋 리스트업 (한국어 / 영어)\n",
    "        - 한국어\n",
    "            - (QA) nayohan/Sujet-Finance-Instruct-177k-ko\n",
    "            - (QA) BCCard/BCCard-Finance-Kor-QnA\n",
    "            - (corpus) https://huggingface.co/datasets/amphora/korfin-asc?row=3\n",
    "        - 영어\n",
    "            - (QA) FinLang/investopedia-instruction-tuning-dataset\n",
    "            - (sentiment) Fingpt/fingpt-sentiment-train\n",
    "    - pair 구성하기\n",
    "        1. positive pair : QA set의 경우 Query - Answer\n",
    "            - Answer 없는 경우 : Title - Passage, **BM25** 등\n",
    "        2. Negative pair : in-batch + Hard negative\n",
    "            - Teacher Model을 통해 Hard negative Mining 진행\n",
    "            - Query당 최소 1개 ~ 최대 4개의 Hard negative (Batch / Base Model 크기에 따라 달라짐)\n",
    "        \n",
    "        **+) 금융 도메인 / 데이터 특성에 따라 pair 선정 방식 별도 추가**\n",
    "        \n",
    "3. Instruction Tuning\n",
    "    - prefix 형식 {task_prefix} : {query} → 데이터셋에 따라 변경\n",
    "    - Tuning 진행 (LoRA 적용)\n",
    "    - A6000x4 + deepspeed stage 3 가 최소 사양\n",
    "    \n",
    "4. Evaluation\n",
    "    1. (한국어) Eval dataset 구축 (KorFinMTEB)\n",
    "    2. (영어) 현존하는 FinMTEB 평가"
   ]
  },
  {
   "cell_type": "markdown",
   "metadata": {},
   "source": [
    "## 1. Dataset"
   ]
  },
  {
   "cell_type": "markdown",
   "metadata": {},
   "source": [
    "### 한국어\n",
    "\n",
    "- https://huggingface.co/datasets/BCCard/BCCard-Finance-Kor-QnA\n",
    "- 수집한 데이터셋"
   ]
  },
  {
   "cell_type": "code",
   "execution_count": 1,
   "metadata": {},
   "outputs": [],
   "source": [
    "import pandas as pd\n",
    "from tqdm import tqdm\n",
    "import numpy as np\n",
    "import json\n"
   ]
  },
  {
   "cell_type": "code",
   "execution_count": 1,
   "metadata": {},
   "outputs": [
    {
     "name": "stderr",
     "output_type": "stream",
     "text": [
      "c:\\Users\\hwyew\\miniconda3\\envs\\finance\\Lib\\site-packages\\tqdm\\auto.py:21: TqdmWarning: IProgress not found. Please update jupyter and ipywidgets. See https://ipywidgets.readthedocs.io/en/stable/user_install.html\n",
      "  from .autonotebook import tqdm as notebook_tqdm\n"
     ]
    },
    {
     "data": {
      "text/html": [
       "<div>\n",
       "<style scoped>\n",
       "    .dataframe tbody tr th:only-of-type {\n",
       "        vertical-align: middle;\n",
       "    }\n",
       "\n",
       "    .dataframe tbody tr th {\n",
       "        vertical-align: top;\n",
       "    }\n",
       "\n",
       "    .dataframe thead th {\n",
       "        text-align: right;\n",
       "    }\n",
       "</style>\n",
       "<table border=\"1\" class=\"dataframe\">\n",
       "  <thead>\n",
       "    <tr style=\"text-align: right;\">\n",
       "      <th></th>\n",
       "      <th>instruction</th>\n",
       "      <th>output</th>\n",
       "    </tr>\n",
       "  </thead>\n",
       "  <tbody>\n",
       "    <tr>\n",
       "      <th>0</th>\n",
       "      <td>비씨카드는 어떤 회사인가요?</td>\n",
       "      <td>비씨카드(BC카드)는 1982년에 설립된 대한민국의 대표적인 카드사로, 주로 결제 ...</td>\n",
       "    </tr>\n",
       "    <tr>\n",
       "      <th>1</th>\n",
       "      <td>비씨카드의 주요 서비스는 뭐야?</td>\n",
       "      <td>비씨카드는 다양한 금융 서비스와 결제 솔루션을 제공하는 회사로, 특히 결제 프로세싱...</td>\n",
       "    </tr>\n",
       "    <tr>\n",
       "      <th>2</th>\n",
       "      <td>비씨카드에서 처리하는 주요 금융 거래는 어떤 것들이 있나요?</td>\n",
       "      <td>비씨카드에서 처리하는 주요 금융 거래는 주로 신용카드와 체크카드의 결제 프로세싱입니...</td>\n",
       "    </tr>\n",
       "    <tr>\n",
       "      <th>3</th>\n",
       "      <td>비씨카드의 현황과 변화 요약을 해줘</td>\n",
       "      <td>비씨카드는 한국의 대표적인 카드사로서, 주로 카드 결제 프로세싱에 강점을 가지고 있...</td>\n",
       "    </tr>\n",
       "    <tr>\n",
       "      <th>4</th>\n",
       "      <td>비씨카드의 디지털 혁신 노력에는 어떤 것들이 있나요?</td>\n",
       "      <td>비씨카드는 디지털 혁신의 일환으로 \"페이북\"이라는 디지털 결제 플랫폼을 개발하여 운...</td>\n",
       "    </tr>\n",
       "  </tbody>\n",
       "</table>\n",
       "</div>"
      ],
      "text/plain": [
       "                         instruction  \\\n",
       "0                    비씨카드는 어떤 회사인가요?   \n",
       "1                  비씨카드의 주요 서비스는 뭐야?   \n",
       "2  비씨카드에서 처리하는 주요 금융 거래는 어떤 것들이 있나요?   \n",
       "3                비씨카드의 현황과 변화 요약을 해줘   \n",
       "4      비씨카드의 디지털 혁신 노력에는 어떤 것들이 있나요?   \n",
       "\n",
       "                                              output  \n",
       "0  비씨카드(BC카드)는 1982년에 설립된 대한민국의 대표적인 카드사로, 주로 결제 ...  \n",
       "1  비씨카드는 다양한 금융 서비스와 결제 솔루션을 제공하는 회사로, 특히 결제 프로세싱...  \n",
       "2  비씨카드에서 처리하는 주요 금융 거래는 주로 신용카드와 체크카드의 결제 프로세싱입니...  \n",
       "3  비씨카드는 한국의 대표적인 카드사로서, 주로 카드 결제 프로세싱에 강점을 가지고 있...  \n",
       "4  비씨카드는 디지털 혁신의 일환으로 \"페이북\"이라는 디지털 결제 플랫폼을 개발하여 운...  "
      ]
     },
     "execution_count": 1,
     "metadata": {},
     "output_type": "execute_result"
    }
   ],
   "source": [
    "\n",
    "bccard_df = pd.read_json(\"hf://datasets/BCCard/BCCard-Finance-Kor-QnA/bccard-finance-qna.jsonl\", lines=True)\n",
    "bccard_df.head()"
   ]
  },
  {
   "cell_type": "code",
   "execution_count": null,
   "metadata": {},
   "outputs": [],
   "source": [
    "# bccard_df.shape"
   ]
  },
  {
   "cell_type": "markdown",
   "metadata": {},
   "source": [
    "### 데이터 전처리\n"
   ]
  },
  {
   "cell_type": "code",
   "execution_count": 3,
   "metadata": {},
   "outputs": [],
   "source": [
    "# # \"비씨카드\"가 포함된 행 제거 -- 최대한 일반적 문장\n",
    "# bccard_df = bccard_df[~bccard_df['instruction'].str.contains(\"비씨카드\")]\n",
    "# bccard_df = bccard_df[~bccard_df['instruction'].str.contains(\"BC\")]\n",
    "# bccard_df = bccard_df[~bccard_df['instruction'].str.contains(\"GOAT\")]\n",
    "# bccard_df = bccard_df[~bccard_df['instruction'].str.contains(\"K-패스\")]\n",
    "# bccard_df = bccard_df[~bccard_df['instruction'].str.contains(\"에어로 아시아나\")]\n",
    "# bccard_df = bccard_df[~bccard_df['instruction'].str.contains(\"시발카드\")]"
   ]
  },
  {
   "cell_type": "code",
   "execution_count": null,
   "metadata": {},
   "outputs": [],
   "source": [
    "# bccard_df.reset_index(drop=True, inplace=True)\n",
    "# bccard_df = bccard_df.rename(columns={\"instruction\" : \"Query\", \"output\" : \"Answer\"})\n",
    "# bccard_df.head()"
   ]
  },
  {
   "cell_type": "code",
   "execution_count": 5,
   "metadata": {},
   "outputs": [],
   "source": [
    "# bccard_df = bccard_df.sample(frac=1).reset_index(drop=True)\n",
    "# bccard_df.head(30)"
   ]
  },
  {
   "cell_type": "code",
   "execution_count": null,
   "metadata": {},
   "outputs": [],
   "source": [
    "# bccard_df_sample = bccard_df.sample(frac=0.1).reset_index(drop=True)\n",
    "# bccard_df_sample"
   ]
  },
  {
   "cell_type": "code",
   "execution_count": 6,
   "metadata": {},
   "outputs": [],
   "source": [
    "# bccard_df_sample.to_csv(\"./data/bccard_df_sample.csv\", index=False)"
   ]
  },
  {
   "cell_type": "markdown",
   "metadata": {},
   "source": [
    "## 2. Hard negative Mining\n",
    "- by teacher model / BM25\n",
    "- Query 당 4개\n",
    "- config에 따라 0.95로 진행"
   ]
  },
  {
   "cell_type": "markdown",
   "metadata": {},
   "source": [
    "### Teacher Model Embedding"
   ]
  },
  {
   "cell_type": "markdown",
   "metadata": {},
   "source": [
    "- Teacher Model\n",
    "    - bge-m3 (https://huggingface.co/BAAI/bge-m3) - multilingual\n",
    "    - KURE-v1 (https://huggingface.co/nlpai-lab/KURE-v1) -> bge-m3 기반 (가장 최신)\n",
    "    - e5-mistral-7b-instruct (영어 사용을 권장)\n",
    "\n",
    "\n",
    "- base Model : multilingual-e5-large / BAAI-bge-m3"
   ]
  },
  {
   "cell_type": "code",
   "execution_count": 2,
   "metadata": {},
   "outputs": [
    {
     "name": "stderr",
     "output_type": "stream",
     "text": [
      "c:\\Users\\hwyew\\miniconda3\\envs\\finance\\Lib\\site-packages\\tqdm\\auto.py:21: TqdmWarning: IProgress not found. Please update jupyter and ipywidgets. See https://ipywidgets.readthedocs.io/en/stable/user_install.html\n",
      "  from .autonotebook import tqdm as notebook_tqdm\n"
     ]
    }
   ],
   "source": [
    "import json\n",
    "from FlagEmbedding import BGEM3FlagModel\n",
    "from sentence_transformers import SentenceTransformer\n",
    "\n",
    "\n",
    "def make_embed_json(df, model_name, data_name, query_col_name=\"Query\", pos_col_name=\"Answer\", sample=True):\n",
    "    data_list = []\n",
    "    if model_name == \"BAAI/bge-m3\":\n",
    "        model = BGEM3FlagModel('BAAI/bge-m3', use_fp16=True, cache=\"./cache\")\n",
    "    elif model_name == \"nlpai-lab/KURE-v1\":\n",
    "        # Download from the 🤗 Hub\n",
    "        model = SentenceTransformer(\"nlpai-lab/KURE-v1\", cache_folder=\"./cache\")\n",
    "    else:\n",
    "        raise ValueError(\"Wrong model name :\", model_name)\n",
    "        \n",
    "\n",
    "    for idx, row in tqdm(df.iterrows(), total=len(df)):\n",
    "        if model_name == \"BAAI/bge-m3\":\n",
    "            query_emb = model.encode(row[query_col_name], verbose=False)['dense_vecs'].tolist()   # 텍스트를 embedding\n",
    "            answer_emb = model.encode(row[pos_col_name], verbose=False)['dense_vecs'].tolist()\n",
    "        elif model_name == \"nlpai-lab/KURE-v1\":\n",
    "            query_emb = model.encode(row[query_col_name]).tolist()   # 텍스트를 embedding\n",
    "            answer_emb = model.encode(row[pos_col_name]).tolist() \n",
    "\n",
    "        data_list.append({\n",
    "            \"index\": idx,\n",
    "            \"query_text\":row[query_col_name],\n",
    "            \"query_embed\": query_emb,\n",
    "            \"answer_text\":row[pos_col_name],\n",
    "            \"answer_embed\": answer_emb\n",
    "        })\n",
    "\n",
    "    # JSON으로 저장\n",
    "    if sample==True:\n",
    "        output_file = f\"./data/{data_name}_{model_name.split('/')[1]}_sample.json\"\n",
    "    else:\n",
    "        output_file = f\"./data/{data_name}_{model_name.split('/')[1]}.json\"\n",
    "    with open(output_file, \"w\", encoding=\"utf-8\") as f:\n",
    "        json.dump(data_list, f, ensure_ascii=False, indent=4)\n",
    "\n",
    "    print(f\"데이터가 {output_file}에 저장되었습니다.\")\n",
    "\n",
    "\n",
    "import torch\n",
    "from torch.amp import autocast\n",
    "\n",
    "import pandas as pd\n",
    "from tqdm import tqdm\n",
    "import numpy as np\n",
    "\n",
    "from transformers.utils.logging import disable_progress_bar\n",
    "disable_progress_bar()\n",
    "\n",
    "\n",
    "def calculate(emb_1, emb_2):\n",
    "    return emb_1 @ emb_2.T\n",
    "\n",
    "# Hard Negative Mining -- batch 제거\n",
    "def mine_hard_negatives(data, max_neg=4):\n",
    "    results = []\n",
    "    answer_embeds = [np.array(item['answer_embed']) for item in data]\n",
    "\n",
    "    for row in tqdm(data, total=len(data)):\n",
    "        torch.cuda.empty_cache()  # GPU 메모리 정리\n",
    "        \n",
    "        query = row['query_text']\n",
    "        positive_answer = row['answer_text']\n",
    "\n",
    "        query_emb = np.array(row['query_embed'])\n",
    "        pos_emb = np.array(row['answer_embed'])\n",
    "\n",
    "        # Positive 유사도 계산\n",
    "        with torch.no_grad():\n",
    "            pos_score = calculate(query_emb, pos_emb)\n",
    "\n",
    "        # Threshold 계산\n",
    "        max_neg_score_threshold = pos_score * 0.95\n",
    "\n",
    "        # Negative 후보 생성\n",
    "        negative_candidates = [item['answer_text'] for item in data if item['answer_text'] != positive_answer]\n",
    "        negative_embeds = [np.array(item['answer_embed']) for item in data if item['answer_text'] != positive_answer]\n",
    "\n",
    "        # Negative Scores를 배치로 계산\n",
    "        hard_negatives = []\n",
    "\n",
    "        with torch.no_grad():\n",
    "            negative_scores = calculate(query_emb, np.stack(negative_embeds))\n",
    "\n",
    "        # Hard Negative 후보 저장\n",
    "        for neg, neg_score in zip(negative_candidates, negative_scores):\n",
    "            if neg_score <= max_neg_score_threshold:\n",
    "                hard_negatives.append((neg, neg_score))\n",
    "\n",
    "        \n",
    "        # 유사도가 높은 순으로 정렬\n",
    "        hard_negatives = sorted(hard_negatives, key=lambda x: x[1], reverse=True)[:max_neg]\n",
    "\n",
    "        # 결과 저장\n",
    "        for neg, neg_score in hard_negatives:\n",
    "            results.append({\n",
    "                'Query': query,\n",
    "                'Positive Answer': positive_answer,\n",
    "                'Hard Negative': neg,\n",
    "                'Positive Score': pos_score.item(),\n",
    "                'Negative Score': neg_score.item()\n",
    "            })\n",
    "\n",
    "    return pd.DataFrame(results)"
   ]
  },
  {
   "cell_type": "markdown",
   "metadata": {},
   "source": [
    "### bge-m3"
   ]
  },
  {
   "cell_type": "markdown",
   "metadata": {},
   "source": [
    "#### Sample"
   ]
  },
  {
   "cell_type": "code",
   "execution_count": 5,
   "metadata": {},
   "outputs": [],
   "source": [
    "import pandas as pd\n",
    "\n",
    "bccard_df_sample = pd.read_csv(\"./data/bccard_df_sample.csv\")"
   ]
  },
  {
   "cell_type": "code",
   "execution_count": null,
   "metadata": {},
   "outputs": [],
   "source": [
    "# sample\n",
    "make_embed_json(bccard_df_sample, \"BAAI/bge-m3\", \"BCCard\")"
   ]
  },
  {
   "cell_type": "code",
   "execution_count": null,
   "metadata": {},
   "outputs": [],
   "source": [
    "import json\n",
    "\n",
    "with open(\"./data/BCCard_bge-m3_sample.json\", \"r\", encoding=\"utf-8\") as f:\n",
    "    data_list = json.load(f)\n",
    "\n",
    "bge_m3_sample = mine_hard_negatives(data_list)\n",
    "bge_m3_sample.to_csv(\"./data/BCCard_bge-m3_sample_hard_negative.csv\", index=False)"
   ]
  },
  {
   "cell_type": "code",
   "execution_count": 7,
   "metadata": {},
   "outputs": [],
   "source": [
    "bge_m3_sample.to_csv(\"./data/BCCard_bge-m3_sample_hard_negative.csv\", index=False)"
   ]
  },
  {
   "cell_type": "markdown",
   "metadata": {},
   "source": [
    "#### Total"
   ]
  },
  {
   "cell_type": "code",
   "execution_count": null,
   "metadata": {},
   "outputs": [],
   "source": [
    "# total\n",
    "make_embed_json(bccard_df, \"BAAI/bge-m3\", \"BCCard\", sample=False)"
   ]
  },
  {
   "cell_type": "code",
   "execution_count": null,
   "metadata": {},
   "outputs": [],
   "source": [
    "# JSON 파일 읽기\n",
    "with open(\"./data/BCCard_bge-m3.json\", \"r\", encoding=\"utf-8\") as f:\n",
    "    data_list = json.load(f)\n",
    "\n",
    "bge_m3 = mine_hard_negatives(data_list)\n",
    "bge_m3.to_csv(\"./data/BCCard_bge-m3_hard_negative.csv\", index=False)"
   ]
  },
  {
   "cell_type": "markdown",
   "metadata": {},
   "source": [
    "### KURE-v1"
   ]
  },
  {
   "cell_type": "markdown",
   "metadata": {},
   "source": [
    "#### sample"
   ]
  },
  {
   "cell_type": "code",
   "execution_count": null,
   "metadata": {},
   "outputs": [],
   "source": [
    "make_embed_json(df, model_name, data_name, query_col_name=\"Query\", pos_col_name=\"Answer\", sample=True):"
   ]
  },
  {
   "cell_type": "code",
   "execution_count": null,
   "metadata": {},
   "outputs": [],
   "source": [
    "import pandas as pd\n",
    "bccard_df_sample = pd.read_csv(\"./data/bccard_df_sample.csv\")\n",
    "bccard_df_sample.head()"
   ]
  },
  {
   "cell_type": "code",
   "execution_count": null,
   "metadata": {},
   "outputs": [],
   "source": [
    "make_embed_json(bccard_df_sample, \"nlpai-lab/KURE-v1\", \"BCCard\")"
   ]
  },
  {
   "cell_type": "code",
   "execution_count": null,
   "metadata": {},
   "outputs": [],
   "source": [
    "# JSON 파일 읽기\n",
    "with open(\"./data/BCCard_KURE-v1_sample.json\", \"r\", encoding=\"utf-8\") as f:\n",
    "    kure = json.load(f)"
   ]
  },
  {
   "cell_type": "code",
   "execution_count": null,
   "metadata": {},
   "outputs": [],
   "source": [
    "kure = mine_hard_negatives(data_list)\n",
    "kure.to_csv(\"./data/BCCard_KURE-v1_sample_hard_negative.csv\", index=False)"
   ]
  },
  {
   "cell_type": "markdown",
   "metadata": {},
   "source": [
    "#### total"
   ]
  },
  {
   "cell_type": "code",
   "execution_count": 3,
   "metadata": {},
   "outputs": [
    {
     "data": {
      "text/html": [
       "<div>\n",
       "<style scoped>\n",
       "    .dataframe tbody tr th:only-of-type {\n",
       "        vertical-align: middle;\n",
       "    }\n",
       "\n",
       "    .dataframe tbody tr th {\n",
       "        vertical-align: top;\n",
       "    }\n",
       "\n",
       "    .dataframe thead th {\n",
       "        text-align: right;\n",
       "    }\n",
       "</style>\n",
       "<table border=\"1\" class=\"dataframe\">\n",
       "  <thead>\n",
       "    <tr style=\"text-align: right;\">\n",
       "      <th></th>\n",
       "      <th>Query</th>\n",
       "      <th>Answer</th>\n",
       "    </tr>\n",
       "  </thead>\n",
       "  <tbody>\n",
       "    <tr>\n",
       "      <th>0</th>\n",
       "      <td>R의 공포 시기에 카드사는 신용 등급이 낮은 고객에 대해 어떻게 대응하나요?</td>\n",
       "      <td>R의 공포 시기에 신용 등급이 낮은 고객에 대한 대응은 카드사에게 중요한 과제가 됩...</td>\n",
       "    </tr>\n",
       "    <tr>\n",
       "      <th>1</th>\n",
       "      <td>모기지 백트 증권의 만기는 어떻게 결정되나요?</td>\n",
       "      <td>모기지 백트 증권의 만기는 기초 자산인 주택담보대출의 만기에 따라 결정됩니다. 대출...</td>\n",
       "    </tr>\n",
       "    <tr>\n",
       "      <th>2</th>\n",
       "      <td>주식 거래 수수료가 면제되는 경우도 있나요?</td>\n",
       "      <td>특정 조건을 만족할 경우 주식 거래 수수료가 면제되는 경우도 있습니다. 예를 들어,...</td>\n",
       "    </tr>\n",
       "    <tr>\n",
       "      <th>3</th>\n",
       "      <td>기준금리 변동이 투자 심리에 미치는 영향은 무엇인가요?</td>\n",
       "      <td>기준금리 변동은 투자 심리에 큰 영향을 미칩니다. 금리 인상 시 대출 비용 증가와 ...</td>\n",
       "    </tr>\n",
       "    <tr>\n",
       "      <th>4</th>\n",
       "      <td>케이뱅크의 예금 상품은 어떤 것이 있나요?</td>\n",
       "      <td>케이뱅크의 예금 상품으로는 자유 입출금 통장, 정기 예금, 적금 등이 있습니다. 각...</td>\n",
       "    </tr>\n",
       "  </tbody>\n",
       "</table>\n",
       "</div>"
      ],
      "text/plain": [
       "                                        Query  \\\n",
       "0  R의 공포 시기에 카드사는 신용 등급이 낮은 고객에 대해 어떻게 대응하나요?   \n",
       "1                   모기지 백트 증권의 만기는 어떻게 결정되나요?   \n",
       "2                    주식 거래 수수료가 면제되는 경우도 있나요?   \n",
       "3              기준금리 변동이 투자 심리에 미치는 영향은 무엇인가요?   \n",
       "4                     케이뱅크의 예금 상품은 어떤 것이 있나요?   \n",
       "\n",
       "                                              Answer  \n",
       "0  R의 공포 시기에 신용 등급이 낮은 고객에 대한 대응은 카드사에게 중요한 과제가 됩...  \n",
       "1  모기지 백트 증권의 만기는 기초 자산인 주택담보대출의 만기에 따라 결정됩니다. 대출...  \n",
       "2  특정 조건을 만족할 경우 주식 거래 수수료가 면제되는 경우도 있습니다. 예를 들어,...  \n",
       "3  기준금리 변동은 투자 심리에 큰 영향을 미칩니다. 금리 인상 시 대출 비용 증가와 ...  \n",
       "4  케이뱅크의 예금 상품으로는 자유 입출금 통장, 정기 예금, 적금 등이 있습니다. 각...  "
      ]
     },
     "execution_count": 3,
     "metadata": {},
     "output_type": "execute_result"
    }
   ],
   "source": [
    "import pandas as pd\n",
    "bccard_df = pd.read_csv(\"./data/bccard_df.csv\")\n",
    "bccard_df.head()"
   ]
  },
  {
   "cell_type": "code",
   "execution_count": 4,
   "metadata": {},
   "outputs": [
    {
     "data": {
      "text/html": [
       "<div>\n",
       "<style scoped>\n",
       "    .dataframe tbody tr th:only-of-type {\n",
       "        vertical-align: middle;\n",
       "    }\n",
       "\n",
       "    .dataframe tbody tr th {\n",
       "        vertical-align: top;\n",
       "    }\n",
       "\n",
       "    .dataframe thead th {\n",
       "        text-align: right;\n",
       "    }\n",
       "</style>\n",
       "<table border=\"1\" class=\"dataframe\">\n",
       "  <thead>\n",
       "    <tr style=\"text-align: right;\">\n",
       "      <th></th>\n",
       "      <th>Query</th>\n",
       "      <th>Answer</th>\n",
       "    </tr>\n",
       "  </thead>\n",
       "  <tbody>\n",
       "    <tr>\n",
       "      <th>0</th>\n",
       "      <td>R의 공포 시기에 카드사는 신용 등급이 낮은 고객에 대해 어떻게 대응하나요?</td>\n",
       "      <td>R의 공포 시기에 신용 등급이 낮은 고객에 대한 대응은 카드사에게 중요한 과제가 됩...</td>\n",
       "    </tr>\n",
       "    <tr>\n",
       "      <th>1</th>\n",
       "      <td>모기지 백트 증권의 만기는 어떻게 결정되나요?</td>\n",
       "      <td>모기지 백트 증권의 만기는 기초 자산인 주택담보대출의 만기에 따라 결정됩니다. 대출...</td>\n",
       "    </tr>\n",
       "    <tr>\n",
       "      <th>2</th>\n",
       "      <td>주식 거래 수수료가 면제되는 경우도 있나요?</td>\n",
       "      <td>특정 조건을 만족할 경우 주식 거래 수수료가 면제되는 경우도 있습니다. 예를 들어,...</td>\n",
       "    </tr>\n",
       "    <tr>\n",
       "      <th>3</th>\n",
       "      <td>기준금리 변동이 투자 심리에 미치는 영향은 무엇인가요?</td>\n",
       "      <td>기준금리 변동은 투자 심리에 큰 영향을 미칩니다. 금리 인상 시 대출 비용 증가와 ...</td>\n",
       "    </tr>\n",
       "    <tr>\n",
       "      <th>4</th>\n",
       "      <td>케이뱅크의 예금 상품은 어떤 것이 있나요?</td>\n",
       "      <td>케이뱅크의 예금 상품으로는 자유 입출금 통장, 정기 예금, 적금 등이 있습니다. 각...</td>\n",
       "    </tr>\n",
       "    <tr>\n",
       "      <th>...</th>\n",
       "      <td>...</td>\n",
       "      <td>...</td>\n",
       "    </tr>\n",
       "    <tr>\n",
       "      <th>31245</th>\n",
       "      <td>원자재 선물 거래의 기본 원리는 무엇인가요?</td>\n",
       "      <td>원자재 선물 거래의 기본 원리는 계약 당사자 간의 합의입니다. 구매자(매수자)는 정...</td>\n",
       "    </tr>\n",
       "    <tr>\n",
       "      <th>31246</th>\n",
       "      <td>배대지를 통해 구매한 물품의 환불 절차는 어떻게 되나요?</td>\n",
       "      <td>배대지를 통해 구매한 물품의 환불 절차는 해당 쇼핑몰의 환불 정책을 확인하고, 배대...</td>\n",
       "    </tr>\n",
       "    <tr>\n",
       "      <th>31247</th>\n",
       "      <td>대출 이자율이 높은 이유는 무엇인가요?</td>\n",
       "      <td>대출 이자율은 차주의 신용도, 대출 상품의 종류, 경제 상황 등에 따라 달라집니다....</td>\n",
       "    </tr>\n",
       "    <tr>\n",
       "      <th>31248</th>\n",
       "      <td>Light 할부를 취소할 수 있나요?</td>\n",
       "      <td>네, Light 할부는 신청 후에도 취소가 가능합니다. 취소 절차는 간단하게 BC카...</td>\n",
       "    </tr>\n",
       "    <tr>\n",
       "      <th>31249</th>\n",
       "      <td>R의 공포 상황에서 금리는 어떻게 변하나요?</td>\n",
       "      <td>R의 공포가 발생하면 중앙은행은 일반적으로 금리를 인하하는 정책을 사용합니다. 금리...</td>\n",
       "    </tr>\n",
       "  </tbody>\n",
       "</table>\n",
       "<p>31250 rows × 2 columns</p>\n",
       "</div>"
      ],
      "text/plain": [
       "                                            Query  \\\n",
       "0      R의 공포 시기에 카드사는 신용 등급이 낮은 고객에 대해 어떻게 대응하나요?   \n",
       "1                       모기지 백트 증권의 만기는 어떻게 결정되나요?   \n",
       "2                        주식 거래 수수료가 면제되는 경우도 있나요?   \n",
       "3                  기준금리 변동이 투자 심리에 미치는 영향은 무엇인가요?   \n",
       "4                         케이뱅크의 예금 상품은 어떤 것이 있나요?   \n",
       "...                                           ...   \n",
       "31245                    원자재 선물 거래의 기본 원리는 무엇인가요?   \n",
       "31246             배대지를 통해 구매한 물품의 환불 절차는 어떻게 되나요?   \n",
       "31247                       대출 이자율이 높은 이유는 무엇인가요?   \n",
       "31248                        Light 할부를 취소할 수 있나요?   \n",
       "31249                    R의 공포 상황에서 금리는 어떻게 변하나요?   \n",
       "\n",
       "                                                  Answer  \n",
       "0      R의 공포 시기에 신용 등급이 낮은 고객에 대한 대응은 카드사에게 중요한 과제가 됩...  \n",
       "1      모기지 백트 증권의 만기는 기초 자산인 주택담보대출의 만기에 따라 결정됩니다. 대출...  \n",
       "2      특정 조건을 만족할 경우 주식 거래 수수료가 면제되는 경우도 있습니다. 예를 들어,...  \n",
       "3      기준금리 변동은 투자 심리에 큰 영향을 미칩니다. 금리 인상 시 대출 비용 증가와 ...  \n",
       "4      케이뱅크의 예금 상품으로는 자유 입출금 통장, 정기 예금, 적금 등이 있습니다. 각...  \n",
       "...                                                  ...  \n",
       "31245  원자재 선물 거래의 기본 원리는 계약 당사자 간의 합의입니다. 구매자(매수자)는 정...  \n",
       "31246  배대지를 통해 구매한 물품의 환불 절차는 해당 쇼핑몰의 환불 정책을 확인하고, 배대...  \n",
       "31247  대출 이자율은 차주의 신용도, 대출 상품의 종류, 경제 상황 등에 따라 달라집니다....  \n",
       "31248  네, Light 할부는 신청 후에도 취소가 가능합니다. 취소 절차는 간단하게 BC카...  \n",
       "31249  R의 공포가 발생하면 중앙은행은 일반적으로 금리를 인하하는 정책을 사용합니다. 금리...  \n",
       "\n",
       "[31250 rows x 2 columns]"
      ]
     },
     "execution_count": 4,
     "metadata": {},
     "output_type": "execute_result"
    }
   ],
   "source": [
    "bccard_df"
   ]
  },
  {
   "cell_type": "code",
   "execution_count": 5,
   "metadata": {},
   "outputs": [
    {
     "name": "stderr",
     "output_type": "stream",
     "text": [
      "100%|██████████| 31250/31250 [18:30<00:00, 28.14it/s]\n"
     ]
    },
    {
     "name": "stdout",
     "output_type": "stream",
     "text": [
      "데이터가 ./data/BCCard_KURE-v1.json에 저장되었습니다.\n"
     ]
    }
   ],
   "source": [
    "make_embed_json(bccard_df, \"nlpai-lab/KURE-v1\", \"BCCard\", sample=False)"
   ]
  },
  {
   "cell_type": "code",
   "execution_count": 6,
   "metadata": {},
   "outputs": [],
   "source": [
    "# JSON 파일 읽기\n",
    "with open(\"./data/BCCard_KURE-v1.json\", \"r\", encoding=\"utf-8\") as f:\n",
    "    kure = json.load(f)"
   ]
  },
  {
   "cell_type": "code",
   "execution_count": 8,
   "metadata": {},
   "outputs": [
    {
     "name": "stderr",
     "output_type": "stream",
     "text": [
      "100%|██████████| 31250/31250 [7:22:31<00:00,  1.18it/s]  \n"
     ]
    }
   ],
   "source": [
    "kure = mine_hard_negatives(kure)\n",
    "kure.to_csv(\"./data/BCCard_KURE-v1_hard_negative.csv\", index=False)"
   ]
  },
  {
   "cell_type": "markdown",
   "metadata": {},
   "source": [
    "## 1-2. Dataset - Naver Finnews"
   ]
  },
  {
   "cell_type": "code",
   "execution_count": 3,
   "metadata": {},
   "outputs": [],
   "source": [
    "import pandas as pd\n",
    "from tqdm import tqdm\n",
    "import numpy as np\n",
    "import ast"
   ]
  },
  {
   "cell_type": "code",
   "execution_count": null,
   "metadata": {},
   "outputs": [],
   "source": [
    "# sample\n",
    "naver_news_sample = pd.read_csv(\"./data/news_sample.csv\")\n",
    "naver_news_sample.reset_index(drop=True, inplace=True)\n",
    "naver_news_sample.head()"
   ]
  },
  {
   "cell_type": "code",
   "execution_count": 4,
   "metadata": {},
   "outputs": [
    {
     "data": {
      "text/html": [
       "<div>\n",
       "<style scoped>\n",
       "    .dataframe tbody tr th:only-of-type {\n",
       "        vertical-align: middle;\n",
       "    }\n",
       "\n",
       "    .dataframe tbody tr th {\n",
       "        vertical-align: top;\n",
       "    }\n",
       "\n",
       "    .dataframe thead th {\n",
       "        text-align: right;\n",
       "    }\n",
       "</style>\n",
       "<table border=\"1\" class=\"dataframe\">\n",
       "  <thead>\n",
       "    <tr style=\"text-align: right;\">\n",
       "      <th></th>\n",
       "      <th>Query</th>\n",
       "      <th>Answer</th>\n",
       "    </tr>\n",
       "  </thead>\n",
       "  <tbody>\n",
       "    <tr>\n",
       "      <th>0</th>\n",
       "      <td>해외 10대 이슈-저성장시대[2024 신년기획]</td>\n",
       "      <td>세계경제 먹구름. 사진연합뉴스 세계 경제가 고금리의 후유증을 앓고 있다. 미국 연방...</td>\n",
       "    </tr>\n",
       "    <tr>\n",
       "      <th>1</th>\n",
       "      <td>올해도 공모주 청약 이어진다…'몸값 조(兆) 단위' 기대주는?</td>\n",
       "      <td>작년 말 따따블 3개 종목 연달아 등장에이피알현대마린솔루션 눈길 올해  시장에서 몸...</td>\n",
       "    </tr>\n",
       "    <tr>\n",
       "      <th>2</th>\n",
       "      <td>지난해 증시 달군 ‘반·로·이’새해에도 날까…‘바이오’도 대기 중</td>\n",
       "      <td>2023년 국내 증시의 주도주 테마는 반로이 였다. 국내 주식형 상장지수펀드 수익률...</td>\n",
       "    </tr>\n",
       "    <tr>\n",
       "      <th>3</th>\n",
       "      <td>증권사 전문가 5명 중 4명 “상반기에 주식 사라”</td>\n",
       "      <td>언제 어떤 종목 투자할까 미국 뉴욕증권거래소에서 트레이더가 모니터를 바라보고 있다....</td>\n",
       "    </tr>\n",
       "    <tr>\n",
       "      <th>4</th>\n",
       "      <td>금리인하 시작된다…올해 상업용 부동산 유망 투자처는 어디?</td>\n",
       "      <td>지난해 고금리가 계속되면서 부동산 시장이 휘청였다. 주택뿐 아니라 국내 상업용 부동...</td>\n",
       "    </tr>\n",
       "  </tbody>\n",
       "</table>\n",
       "</div>"
      ],
      "text/plain": [
       "                                  Query  \\\n",
       "0            해외 10대 이슈-저성장시대[2024 신년기획]   \n",
       "1    올해도 공모주 청약 이어진다…'몸값 조(兆) 단위' 기대주는?   \n",
       "2  지난해 증시 달군 ‘반·로·이’새해에도 날까…‘바이오’도 대기 중   \n",
       "3          증권사 전문가 5명 중 4명 “상반기에 주식 사라”   \n",
       "4      금리인하 시작된다…올해 상업용 부동산 유망 투자처는 어디?   \n",
       "\n",
       "                                              Answer  \n",
       "0  세계경제 먹구름. 사진연합뉴스 세계 경제가 고금리의 후유증을 앓고 있다. 미국 연방...  \n",
       "1  작년 말 따따블 3개 종목 연달아 등장에이피알현대마린솔루션 눈길 올해  시장에서 몸...  \n",
       "2  2023년 국내 증시의 주도주 테마는 반로이 였다. 국내 주식형 상장지수펀드 수익률...  \n",
       "3  언제 어떤 종목 투자할까 미국 뉴욕증권거래소에서 트레이더가 모니터를 바라보고 있다....  \n",
       "4  지난해 고금리가 계속되면서 부동산 시장이 휘청였다. 주택뿐 아니라 국내 상업용 부동...  "
      ]
     },
     "execution_count": 4,
     "metadata": {},
     "output_type": "execute_result"
    }
   ],
   "source": [
    "# total\n",
    "naver_news = pd.read_csv(\"./data/naver_main_news_2024.csv\")\n",
    "naver_news.dropna(subset=['cleaned_text'], inplace=True)\n",
    "naver_news['cleaned_text'] = naver_news['cleaned_text'].apply(lambda x : ' '.join(ast.literal_eval(x)))\n",
    "\n",
    "naver_news.reset_index(drop=True, inplace=True)\n",
    "naver_news_cleaned = pd.DataFrame()\n",
    "naver_news_cleaned['Query'] = naver_news['title']\n",
    "naver_news_cleaned['Answer'] = naver_news['cleaned_text']\n",
    "\n",
    "naver_news_cleaned.head()"
   ]
  },
  {
   "cell_type": "code",
   "execution_count": 5,
   "metadata": {},
   "outputs": [
    {
     "data": {
      "text/html": [
       "<div>\n",
       "<style scoped>\n",
       "    .dataframe tbody tr th:only-of-type {\n",
       "        vertical-align: middle;\n",
       "    }\n",
       "\n",
       "    .dataframe tbody tr th {\n",
       "        vertical-align: top;\n",
       "    }\n",
       "\n",
       "    .dataframe thead th {\n",
       "        text-align: right;\n",
       "    }\n",
       "</style>\n",
       "<table border=\"1\" class=\"dataframe\">\n",
       "  <thead>\n",
       "    <tr style=\"text-align: right;\">\n",
       "      <th></th>\n",
       "      <th>Query</th>\n",
       "      <th>Answer</th>\n",
       "    </tr>\n",
       "  </thead>\n",
       "  <tbody>\n",
       "    <tr>\n",
       "      <th>0</th>\n",
       "      <td>해외 10대 이슈-저성장시대[2024 신년기획]</td>\n",
       "      <td>세계경제 먹구름. 사진연합뉴스 세계 경제가 고금리의 후유증을 앓고 있다. 미국 연방...</td>\n",
       "    </tr>\n",
       "    <tr>\n",
       "      <th>1</th>\n",
       "      <td>올해도 공모주 청약 이어진다…'몸값 조(兆) 단위' 기대주는?</td>\n",
       "      <td>작년 말 따따블 3개 종목 연달아 등장에이피알현대마린솔루션 눈길 올해  시장에서 몸...</td>\n",
       "    </tr>\n",
       "    <tr>\n",
       "      <th>2</th>\n",
       "      <td>지난해 증시 달군 ‘반·로·이’새해에도 날까…‘바이오’도 대기 중</td>\n",
       "      <td>2023년 국내 증시의 주도주 테마는 반로이 였다. 국내 주식형 상장지수펀드 수익률...</td>\n",
       "    </tr>\n",
       "    <tr>\n",
       "      <th>3</th>\n",
       "      <td>증권사 전문가 5명 중 4명 “상반기에 주식 사라”</td>\n",
       "      <td>언제 어떤 종목 투자할까 미국 뉴욕증권거래소에서 트레이더가 모니터를 바라보고 있다....</td>\n",
       "    </tr>\n",
       "    <tr>\n",
       "      <th>4</th>\n",
       "      <td>금리인하 시작된다…올해 상업용 부동산 유망 투자처는 어디?</td>\n",
       "      <td>지난해 고금리가 계속되면서 부동산 시장이 휘청였다. 주택뿐 아니라 국내 상업용 부동...</td>\n",
       "    </tr>\n",
       "    <tr>\n",
       "      <th>...</th>\n",
       "      <td>...</td>\n",
       "      <td>...</td>\n",
       "    </tr>\n",
       "    <tr>\n",
       "      <th>55512</th>\n",
       "      <td>\"코스피도 없던 시절\"…45년 전 마지막 계엄령때 증시는 어땠나</td>\n",
       "      <td>윤석열 대통령이 간밤 비상계엄을 선포했다 국회에 막혀 계엄을 해제한 4일 오전 서울...</td>\n",
       "    </tr>\n",
       "    <tr>\n",
       "      <th>55513</th>\n",
       "      <td>증권가 “증시 단기 변동성 확대…외인 투매 등 주시”[실패한 계엄령]</td>\n",
       "      <td>윤석열 대통령의 비상계엄령 선포 후 국회에서 비상계엄해제요 구안이 가결된 가운데 4...</td>\n",
       "    </tr>\n",
       "    <tr>\n",
       "      <th>55514</th>\n",
       "      <td>\"비상계엄령, 尹정부 핵심정책 '밸류업'에 불똥 튈 수도\"</td>\n",
       "      <td>윤석열 대통령이 비상계엄을 선언했다 국회의 의결로 계엄을 해제한 4일 오전 서울 중...</td>\n",
       "    </tr>\n",
       "    <tr>\n",
       "      <th>55515</th>\n",
       "      <td>\"카카오만 왜 올라?\" 7% 치솟으며 시총 20조 돌파…그룹株 '들썩'[핫종목]</td>\n",
       "      <td>경기 성남시 분당구 카카오 판교아지트의 모습..뉴스1  1     카카오가 7% 넘...</td>\n",
       "    </tr>\n",
       "    <tr>\n",
       "      <th>55516</th>\n",
       "      <td>“곱버스도 국장이다(?)”...계엄사태 여파에 2%대 상승세 [투자360]</td>\n",
       "      <td>게티이미지뱅크  45년 만의 비상계엄 사태에 정치 불확실성이 증폭되자 4일 개장 초...</td>\n",
       "    </tr>\n",
       "  </tbody>\n",
       "</table>\n",
       "<p>55517 rows × 2 columns</p>\n",
       "</div>"
      ],
      "text/plain": [
       "                                              Query  \\\n",
       "0                        해외 10대 이슈-저성장시대[2024 신년기획]   \n",
       "1                올해도 공모주 청약 이어진다…'몸값 조(兆) 단위' 기대주는?   \n",
       "2              지난해 증시 달군 ‘반·로·이’새해에도 날까…‘바이오’도 대기 중   \n",
       "3                      증권사 전문가 5명 중 4명 “상반기에 주식 사라”   \n",
       "4                  금리인하 시작된다…올해 상업용 부동산 유망 투자처는 어디?   \n",
       "...                                             ...   \n",
       "55512           \"코스피도 없던 시절\"…45년 전 마지막 계엄령때 증시는 어땠나   \n",
       "55513        증권가 “증시 단기 변동성 확대…외인 투매 등 주시”[실패한 계엄령]   \n",
       "55514              \"비상계엄령, 尹정부 핵심정책 '밸류업'에 불똥 튈 수도\"   \n",
       "55515  \"카카오만 왜 올라?\" 7% 치솟으며 시총 20조 돌파…그룹株 '들썩'[핫종목]   \n",
       "55516     “곱버스도 국장이다(?)”...계엄사태 여파에 2%대 상승세 [투자360]   \n",
       "\n",
       "                                                  Answer  \n",
       "0      세계경제 먹구름. 사진연합뉴스 세계 경제가 고금리의 후유증을 앓고 있다. 미국 연방...  \n",
       "1      작년 말 따따블 3개 종목 연달아 등장에이피알현대마린솔루션 눈길 올해  시장에서 몸...  \n",
       "2      2023년 국내 증시의 주도주 테마는 반로이 였다. 국내 주식형 상장지수펀드 수익률...  \n",
       "3      언제 어떤 종목 투자할까 미국 뉴욕증권거래소에서 트레이더가 모니터를 바라보고 있다....  \n",
       "4      지난해 고금리가 계속되면서 부동산 시장이 휘청였다. 주택뿐 아니라 국내 상업용 부동...  \n",
       "...                                                  ...  \n",
       "55512  윤석열 대통령이 간밤 비상계엄을 선포했다 국회에 막혀 계엄을 해제한 4일 오전 서울...  \n",
       "55513  윤석열 대통령의 비상계엄령 선포 후 국회에서 비상계엄해제요 구안이 가결된 가운데 4...  \n",
       "55514  윤석열 대통령이 비상계엄을 선언했다 국회의 의결로 계엄을 해제한 4일 오전 서울 중...  \n",
       "55515  경기 성남시 분당구 카카오 판교아지트의 모습..뉴스1  1     카카오가 7% 넘...  \n",
       "55516  게티이미지뱅크  45년 만의 비상계엄 사태에 정치 불확실성이 증폭되자 4일 개장 초...  \n",
       "\n",
       "[55517 rows x 2 columns]"
      ]
     },
     "execution_count": 5,
     "metadata": {},
     "output_type": "execute_result"
    }
   ],
   "source": [
    "naver_news_cleaned"
   ]
  },
  {
   "cell_type": "markdown",
   "metadata": {},
   "source": [
    "### bge-m3"
   ]
  },
  {
   "cell_type": "markdown",
   "metadata": {},
   "source": [
    "#### sample"
   ]
  },
  {
   "cell_type": "code",
   "execution_count": null,
   "metadata": {},
   "outputs": [],
   "source": [
    "make_embed_json(naver_news_sample, \"BAAI/bge-m3\", \"NaverNews\")"
   ]
  },
  {
   "cell_type": "code",
   "execution_count": 11,
   "metadata": {},
   "outputs": [],
   "source": [
    "# JSON 파일 읽기\n",
    "with open(\"./data/NaverNews_bge-m3_sample.json\", \"r\", encoding=\"utf-8\") as f:\n",
    "    data_list = json.load(f)"
   ]
  },
  {
   "cell_type": "code",
   "execution_count": null,
   "metadata": {},
   "outputs": [],
   "source": [
    "bge_sample = mine_hard_negatives(data_list)\n",
    "bge_sample.to_csv(\"./data/NaverNews_bge-m3_sample_hard_negative.csv\", index=False)"
   ]
  },
  {
   "cell_type": "markdown",
   "metadata": {},
   "source": [
    "#### total"
   ]
  },
  {
   "cell_type": "code",
   "execution_count": 8,
   "metadata": {},
   "outputs": [
    {
     "name": "stderr",
     "output_type": "stream",
     "text": [
      "  0%|          | 0/55517 [00:00<?, ?it/s]You're using a XLMRobertaTokenizerFast tokenizer. Please note that with a fast tokenizer, using the `__call__` method is faster than using a method to encode the text followed by a call to the `pad` method to get a padded encoding.\n",
      "100%|██████████| 55517/55517 [1:00:39<00:00, 15.25it/s]\n"
     ]
    },
    {
     "name": "stdout",
     "output_type": "stream",
     "text": [
      "데이터가 ./data/NaverNews_bge-m3.json에 저장되었습니다.\n"
     ]
    }
   ],
   "source": [
    "make_embed_json(naver_news_cleaned, \"BAAI/bge-m3\", \"NaverNews\", sample=False)"
   ]
  },
  {
   "cell_type": "code",
   "execution_count": 9,
   "metadata": {},
   "outputs": [],
   "source": [
    "# JSON 파일 읽기\n",
    "with open(\"./data/NaverNews_bge-m3.json\", \"r\", encoding=\"utf-8\") as f:\n",
    "    data_list = json.load(f)"
   ]
  },
  {
   "cell_type": "code",
   "execution_count": 10,
   "metadata": {},
   "outputs": [
    {
     "name": "stderr",
     "output_type": "stream",
     "text": [
      "100%|██████████| 55517/55517 [23:37:13<00:00,  1.53s/it]   \n"
     ]
    }
   ],
   "source": [
    "bge = mine_hard_negatives(data_list)\n",
    "bge.to_csv(\"./data/NaverNews_bge-m3_hard_negative.csv\", index=False)"
   ]
  },
  {
   "cell_type": "markdown",
   "metadata": {},
   "source": [
    "### KURE"
   ]
  },
  {
   "cell_type": "markdown",
   "metadata": {},
   "source": [
    "#### sample"
   ]
  },
  {
   "cell_type": "code",
   "execution_count": null,
   "metadata": {},
   "outputs": [],
   "source": [
    "make_embed_json(naver_news_sample, \"nlpai-lab/KURE-v1\", \"NaverNews\")"
   ]
  },
  {
   "cell_type": "code",
   "execution_count": null,
   "metadata": {},
   "outputs": [],
   "source": [
    "# JSON 파일 읽기\n",
    "with open(\"./data/NaverNews_KURE-v1_sample.json\", \"r\", encoding=\"utf-8\") as f:\n",
    "    data_list = json.load(f)"
   ]
  },
  {
   "cell_type": "code",
   "execution_count": null,
   "metadata": {},
   "outputs": [],
   "source": [
    "kure_sample = mine_hard_negatives(data_list)\n",
    "kure_sample.to_csv(\"./data/NaverNews_KURE-v1_sample_hard_negative.csv\", index=False)"
   ]
  },
  {
   "cell_type": "markdown",
   "metadata": {},
   "source": [
    "#### total"
   ]
  },
  {
   "cell_type": "code",
   "execution_count": 14,
   "metadata": {},
   "outputs": [
    {
     "name": "stderr",
     "output_type": "stream",
     "text": [
      "100%|██████████| 55517/55517 [8:49:01<00:00,  1.75it/s]      \n"
     ]
    },
    {
     "name": "stdout",
     "output_type": "stream",
     "text": [
      "데이터가 ./data/NaverNews_KURE-v1.json에 저장되었습니다.\n"
     ]
    }
   ],
   "source": [
    "make_embed_json(naver_news_cleaned, \"nlpai-lab/KURE-v1\", \"NaverNews\", sample=False)"
   ]
  },
  {
   "cell_type": "code",
   "execution_count": 16,
   "metadata": {},
   "outputs": [],
   "source": [
    "# JSON 파일 읽기\n",
    "with open(\"./data/NaverNews_KURE-v1.json\", \"r\", encoding=\"utf-8\") as f:\n",
    "    data_list = json.load(f)"
   ]
  },
  {
   "cell_type": "code",
   "execution_count": 17,
   "metadata": {},
   "outputs": [
    {
     "name": "stderr",
     "output_type": "stream",
     "text": [
      "100%|██████████| 55517/55517 [24:01:47<00:00,  1.56s/it]   \n"
     ]
    }
   ],
   "source": [
    "kure = mine_hard_negatives(data_list)\n",
    "kure.to_csv(\"./data/NaverNews_KURE-v1_hard_negative.csv\", index=False)"
   ]
  },
  {
   "cell_type": "code",
   "execution_count": null,
   "metadata": {},
   "outputs": [],
   "source": []
  }
 ],
 "metadata": {
  "kernelspec": {
   "display_name": "finance",
   "language": "python",
   "name": "python3"
  },
  "language_info": {
   "codemirror_mode": {
    "name": "ipython",
    "version": 3
   },
   "file_extension": ".py",
   "mimetype": "text/x-python",
   "name": "python",
   "nbconvert_exporter": "python",
   "pygments_lexer": "ipython3",
   "version": "3.11.11"
  }
 },
 "nbformat": 4,
 "nbformat_minor": 2
}
