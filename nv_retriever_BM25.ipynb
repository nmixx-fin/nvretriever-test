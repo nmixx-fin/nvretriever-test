{
 "cells": [
  {
   "cell_type": "markdown",
   "metadata": {},
   "source": [
    "# NV-Retriever 방법론 실험\n",
    "\n",
    "1. Teacher - Base Model 선정\n",
    "    - Teacher 후보 모델 (한국어 / 영어)\n",
    "        - https://huggingface.co/DeepMount00/Llama-3.1-8b-ITA\n",
    "        - https://huggingface.co/AIDX-ktds/ktdsbaseLM-v0.12-based-on-openchat3.5\n",
    "    - Base 후보 모델 (한국어 / 영어)\n",
    "        - https://huggingface.co/intfloat/multilingual-e5-large\n",
    "\n",
    "2. Dataset 구성\n",
    "    - 사용할 데이터셋 리스트업 (한국어 / 영어)\n",
    "        - 한국어\n",
    "            - (QA) nayohan/Sujet-Finance-Instruct-177k-ko\n",
    "            - (QA) BCCard/BCCard-Finance-Kor-QnA\n",
    "            - (corpus) https://huggingface.co/datasets/amphora/korfin-asc?row=3\n",
    "        - 영어\n",
    "            - (QA) FinLang/investopedia-instruction-tuning-dataset\n",
    "            - (sentiment) Fingpt/fingpt-sentiment-train\n",
    "    - pair 구성하기\n",
    "        1. positive pair : QA set의 경우 Query - Answer\n",
    "            - Answer 없는 경우 : Title - Passage, **BM25** 등\n",
    "        2. Negative pair : in-batch + Hard negative\n",
    "            - Teacher Model을 통해 Hard negative Mining 진행\n",
    "            - Query당 최소 1개 ~ 최대 4개의 Hard negative (Batch / Base Model 크기에 따라 달라짐)\n",
    "        \n",
    "        **+) 금융 도메인 / 데이터 특성에 따라 pair 선정 방식 별도 추가**\n",
    "        \n",
    "3. Instruction Tuning\n",
    "    - prefix 형식 {task_prefix} : {query} → 데이터셋에 따라 변경\n",
    "    - Tuning 진행 (LoRA 적용)\n",
    "    - A6000x4 + deepspeed stage 3 가 최소 사양\n",
    "    \n",
    "4. Evaluation\n",
    "    1. (한국어) Eval dataset 구축 (KorFinMTEB)\n",
    "    2. (영어) 현존하는 FinMTEB 평가"
   ]
  },
  {
   "cell_type": "markdown",
   "metadata": {},
   "source": [
    "## 1. Teacher - base model"
   ]
  },
  {
   "cell_type": "markdown",
   "metadata": {},
   "source": [
    "## 1. 한국어 데이터셋\n",
    "### 1-1. BCcard QA\n",
    "- https://huggingface.co/datasets/BCCard/BCCard-Finance-Kor-QnA\n",
    "- 수집한 데이터셋"
   ]
  },
  {
   "cell_type": "code",
   "execution_count": null,
   "metadata": {},
   "outputs": [],
   "source": [
    "import pandas as pd\n",
    "\n",
    "bccard_df = pd.read_json(\"hf://datasets/BCCard/BCCard-Finance-Kor-QnA/bccard-finance-qna.jsonl\", lines=True)\n",
    "bccard_df.head()"
   ]
  },
  {
   "cell_type": "code",
   "execution_count": null,
   "metadata": {},
   "outputs": [],
   "source": [
    "bccard_df.shape"
   ]
  },
  {
   "cell_type": "markdown",
   "metadata": {},
   "source": [
    "### 데이터 전처리\n"
   ]
  },
  {
   "cell_type": "code",
   "execution_count": null,
   "metadata": {},
   "outputs": [],
   "source": [
    "bccard_df.reset_index(drop=True, inplace=True)\n",
    "bccard_df = bccard_df.rename(columns={\"instruction\" : \"Query\", \"output\" : \"Answer\"})\n",
    "bccard_df.head()"
   ]
  },
  {
   "cell_type": "markdown",
   "metadata": {},
   "source": [
    "### BM25Okapi\n",
    "\n",
    "- 원본 논문 (NV-Retriever) 에는 BM25 성능이 좋지 않았으나, 금융 문장은 키워드나 단어가 중요한 만큼 TF-IDF 기반의 해당 방법론에 대해서도 실험을 진행"
   ]
  },
  {
   "cell_type": "code",
   "execution_count": 4,
   "metadata": {},
   "outputs": [],
   "source": [
    "from konlpy.tag import Okt\n",
    "\n",
    "# 한국어는 형태소 쪼개기 이후 분석하는게 좋다고 함 - 영어가 섞여있으므로 그냥 쪼개기도 해보기\n",
    "# M1에서 konlpy 실행 X 이슈로.. 일단은 그냥 split\n",
    "def tokenizing(sent):\n",
    "    okt = Okt()\n",
    "    return okt.morphs(sent)\n"
   ]
  },
  {
   "cell_type": "markdown",
   "metadata": {},
   "source": [
    "### BM25 (All)"
   ]
  },
  {
   "cell_type": "code",
   "execution_count": 8,
   "metadata": {},
   "outputs": [],
   "source": [
    "import pandas as pd\n",
    "from rank_bm25 import BM25Okapi\n",
    "from tqdm import tqdm\n",
    "import numpy as np\n",
    "\n",
    "# 데이터 준비\n",
    "def prepare_data(data):\n",
    "    queries = data['Query'].tolist()\n",
    "    answers = data['Answer'].tolist()\n",
    "    return queries, answers\n",
    "\n",
    "# BM25 모델 초기화\n",
    "def initialize_bm25(corpus):\n",
    "    tokenized_corpus = [doc.split() for doc in corpus]\n",
    "    bm25 = BM25Okapi(tokenized_corpus)\n",
    "    return bm25\n",
    "\n",
    "# BM25 점수 정규화 함수\n",
    "def normalize_scores(scores):\n",
    "    scores = np.array(scores)\n",
    "    min_score = scores.min()\n",
    "    max_score = scores.max()\n",
    "    if max_score - min_score == 0:  # 모든 점수가 동일한 경우\n",
    "        return np.zeros_like(scores)  # 정규화 점수를 0으로 설정\n",
    "    return (scores - min_score) / (max_score - min_score)\n",
    "\n",
    "# Hard Negative Mining\n",
    "def mine_hard_negatives(data, bm25, max_neg=4):\n",
    "    results = []\n",
    "    for index, row in tqdm(data.iterrows(), total=len(data)):\n",
    "        query = row['Query']\n",
    "        positive_answer = row['Answer']\n",
    "\n",
    "        # Query의 토큰화\n",
    "        tokenized_query = tokenizing(query)\n",
    "\n",
    "        # BM25 점수 계산 및 정규화\n",
    "        scores = bm25.get_scores(tokenized_query)\n",
    "        normalized_scores = normalize_scores(scores)\n",
    "\n",
    "        # Positive 유사도 계산\n",
    "        pos_score = normalized_scores[index]\n",
    "\n",
    "        # max_neg_score_threshold 계산\n",
    "        max_neg_score_threshold = pos_score * 0.95\n",
    "\n",
    "        # Hard Negative 후보 필터링\n",
    "        negative_candidates = [(i, normalized_scores[i]) for i in range(len(scores)) if \\\n",
    "                               normalized_scores[i] <= max_neg_score_threshold and i != index]\n",
    "                               \n",
    "        # 유사도가 높은 순으로 정렬\n",
    "        negative_candidates = sorted(negative_candidates, key=lambda x: x[1], reverse=True)\n",
    "\n",
    "        # 최대 max_neg개의 Hard Negative 선택\n",
    "        hard_negatives = negative_candidates[:max_neg]\n",
    "        \n",
    "        # Hard Negative 추가\n",
    "        for neg in hard_negatives:\n",
    "            results.append({\n",
    "                'Query': query,\n",
    "                'Positive Answer': positive_answer,\n",
    "                'Hard Negative': data.iloc[neg[0]]['Answer'],\n",
    "                'Positive Score' : pos_score,\n",
    "                'Negative Score': neg[1]\n",
    "            })\n",
    "\n",
    "    return pd.DataFrame(results)"
   ]
  },
  {
   "cell_type": "code",
   "execution_count": null,
   "metadata": {},
   "outputs": [],
   "source": [
    "# # sample\n",
    "\n",
    "# bccard_df_sample = pd.read_csv(\"./data/bccard_df_sample.csv\")\n",
    "\n",
    "# # 데이터 준비\n",
    "# queries, answers = prepare_data(bccard_df_sample)\n",
    "\n",
    "# # BM25 모델 초기화\n",
    "# bm25 = initialize_bm25(answers)\n",
    "\n",
    "# # Hard Negative Mining 실행\n",
    "# mined_data = mine_hard_negatives(bccard_df_sample, bm25)\n"
   ]
  },
  {
   "cell_type": "code",
   "execution_count": null,
   "metadata": {},
   "outputs": [],
   "source": [
    "# 전체\n",
    "# 데이터 준비\n",
    "queries, answers = prepare_data(bccard_df)\n",
    "\n",
    "# BM25 모델 초기화\n",
    "bm25 = initialize_bm25(answers)\n",
    "\n",
    "# Hard Negative Mining 실행\n",
    "mined_data = mine_hard_negatives(bccard_df, bm25)\n"
   ]
  },
  {
   "cell_type": "code",
   "execution_count": null,
   "metadata": {},
   "outputs": [],
   "source": [
    "mined_data.head()"
   ]
  },
  {
   "cell_type": "code",
   "execution_count": 8,
   "metadata": {},
   "outputs": [],
   "source": [
    "# bccard_df.to_csv(\"./data/bccard_df.csv\", index=False)\n",
    "mined_data.to_csv(\"./data/bm25.csv\", index=False)"
   ]
  },
  {
   "cell_type": "markdown",
   "metadata": {},
   "source": [
    "### 실험 수정 - minmax top_k = 100"
   ]
  },
  {
   "cell_type": "code",
   "execution_count": 4,
   "metadata": {},
   "outputs": [],
   "source": [
    "import pandas as pd\n",
    "from rank_bm25 import BM25Okapi\n",
    "from tqdm import tqdm\n",
    "import numpy as np\n",
    "\n",
    "# 데이터 준비\n",
    "def prepare_data(data):\n",
    "    queries = data['Query'].tolist()\n",
    "    answers = data['Answer'].tolist()\n",
    "    return queries, answers\n",
    "\n",
    "# BM25 모델 초기화\n",
    "def initialize_bm25(corpus):\n",
    "    tokenized_corpus = [doc.split() for doc in corpus]\n",
    "    bm25 = BM25Okapi(tokenized_corpus)\n",
    "    return bm25\n",
    "\n",
    "# BM25 점수 0~1 Scaling 함수\n",
    "def normalize_scores(scores):\n",
    "    scores = np.array(scores)\n",
    "    min_score = scores.min()\n",
    "    max_score = scores.max()\n",
    "    if max_score - min_score == 0:  # 모든 점수가 동일한 경우\n",
    "        return np.zeros_like(scores)  # 정규화 점수를 0으로 설정\n",
    "    return (scores - min_score) / (max_score - min_score)\n",
    "\n",
    "# Hard Negative Mining\n",
    "def mine_hard_negatives(data, bm25, top_k=100, max_neg=4):\n",
    "    results = []\n",
    "    for index, row in tqdm(data.iterrows(), total=len(data)):\n",
    "        query = row['Query']\n",
    "        positive_answer = row['Answer']\n",
    "\n",
    "        # Query의 토큰화\n",
    "        tokenized_query = query.split()  # 간단한 토큰화\n",
    "\n",
    "        # BM25 점수 계산\n",
    "        scores = bm25.get_scores(tokenized_query)\n",
    "\n",
    "        # 상위 100개의 점수 선택\n",
    "        top_100_indices = np.argsort(scores)[-top_k:][::-1]\n",
    "        top_100_scores = scores[top_100_indices]\n",
    "\n",
    "        # 0~1 Scaling 적용\n",
    "        normalized_scores = normalize_scores(top_100_scores)\n",
    "\n",
    "        # Positive 유사도 계산 (정규화된 점수에서 위치 기반으로 접근)\n",
    "        if index in top_100_indices:\n",
    "            pos_index = np.where(top_100_indices == index)[0][0]\n",
    "            pos_score = normalized_scores[pos_index]\n",
    "        else:\n",
    "            pos_score = 0  # Positive가 top 100에 없는 경우\n",
    "\n",
    "        # max_neg_score_threshold 계산\n",
    "        max_neg_score_threshold = pos_score * 0.95\n",
    "\n",
    "        # Hard Negative 후보 필터링\n",
    "        negative_candidates = [(i, normalized_scores[j]) for j, i in enumerate(top_100_indices) if \\\n",
    "                               normalized_scores[j] <= max_neg_score_threshold and i != index]\n",
    "\n",
    "        # 유사도가 높은 순으로 정렬\n",
    "        negative_candidates = sorted(negative_candidates, key=lambda x: x[1], reverse=True)\n",
    "\n",
    "        # 최대 max_neg개의 Hard Negative 선택\n",
    "        hard_negatives = negative_candidates[:max_neg]\n",
    "\n",
    "        # Hard Negative 추가\n",
    "        for neg in hard_negatives:\n",
    "            results.append({\n",
    "                'Query': query,\n",
    "                'Positive Answer': positive_answer,\n",
    "                'Hard Negative': data.iloc[neg[0]]['Answer'],\n",
    "                'Positive Score': pos_score,\n",
    "                'Negative Score': neg[1]\n",
    "            })\n",
    "\n",
    "    return pd.DataFrame(results)\n"
   ]
  },
  {
   "cell_type": "code",
   "execution_count": 5,
   "metadata": {},
   "outputs": [
    {
     "name": "stderr",
     "output_type": "stream",
     "text": [
      "100%|██████████| 2841/2841 [00:08<00:00, 344.09it/s]\n"
     ]
    }
   ],
   "source": [
    "# sample\n",
    "bccard_df_sample = pd.read_csv(\"./data/bccard_df_sample.csv\")\n",
    "\n",
    "# 데이터 준비\n",
    "queries, answers = prepare_data(bccard_df_sample)\n",
    "\n",
    "# BM25 모델 초기화\n",
    "bm25 = initialize_bm25(answers)\n",
    "\n",
    "# Hard Negative Mining 실행\n",
    "mined_data = mine_hard_negatives(bccard_df_sample, bm25, 100)"
   ]
  },
  {
   "cell_type": "code",
   "execution_count": 6,
   "metadata": {},
   "outputs": [
    {
     "data": {
      "text/html": [
       "<div>\n",
       "<style scoped>\n",
       "    .dataframe tbody tr th:only-of-type {\n",
       "        vertical-align: middle;\n",
       "    }\n",
       "\n",
       "    .dataframe tbody tr th {\n",
       "        vertical-align: top;\n",
       "    }\n",
       "\n",
       "    .dataframe thead th {\n",
       "        text-align: right;\n",
       "    }\n",
       "</style>\n",
       "<table border=\"1\" class=\"dataframe\">\n",
       "  <thead>\n",
       "    <tr style=\"text-align: right;\">\n",
       "      <th></th>\n",
       "      <th>Query</th>\n",
       "      <th>Positive Answer</th>\n",
       "      <th>Hard Negative</th>\n",
       "      <th>Positive Score</th>\n",
       "      <th>Negative Score</th>\n",
       "    </tr>\n",
       "  </thead>\n",
       "  <tbody>\n",
       "    <tr>\n",
       "      <th>0</th>\n",
       "      <td>LTI 규제가 변동될 때 기존 대출의 조건도 바뀌나요?</td>\n",
       "      <td>LTI 규제가 변동되더라도 기존에 받은 대출의 조건은 바뀌지 않습니다. 대출은 대출...</td>\n",
       "      <td>LTI 규제가 없는 상황에서는 대출 한도는 대출자의 신용 등급, 소득, 기존 부채 ...</td>\n",
       "      <td>1.00000</td>\n",
       "      <td>0.521175</td>\n",
       "    </tr>\n",
       "    <tr>\n",
       "      <th>1</th>\n",
       "      <td>LTI 규제가 변동될 때 기존 대출의 조건도 바뀌나요?</td>\n",
       "      <td>LTI 규제가 변동되더라도 기존에 받은 대출의 조건은 바뀌지 않습니다. 대출은 대출...</td>\n",
       "      <td>대출 규제가 강화되면 금융기관은 대출 금리를 인상할 가능성이 있습니다. 이는 대출의...</td>\n",
       "      <td>1.00000</td>\n",
       "      <td>0.514133</td>\n",
       "    </tr>\n",
       "    <tr>\n",
       "      <th>2</th>\n",
       "      <td>LTI 규제가 변동될 때 기존 대출의 조건도 바뀌나요?</td>\n",
       "      <td>LTI 규제가 변동되더라도 기존에 받은 대출의 조건은 바뀌지 않습니다. 대출은 대출...</td>\n",
       "      <td>금리 인하 요구권을 통해 금리가 인하된 후에도, 시장 금리 변화나 대출 조건에 따라...</td>\n",
       "      <td>1.00000</td>\n",
       "      <td>0.378502</td>\n",
       "    </tr>\n",
       "    <tr>\n",
       "      <th>3</th>\n",
       "      <td>LTI 규제가 변동될 때 기존 대출의 조건도 바뀌나요?</td>\n",
       "      <td>LTI 규제가 변동되더라도 기존에 받은 대출의 조건은 바뀌지 않습니다. 대출은 대출...</td>\n",
       "      <td>LTI는 주로 신용대출에 적용되지만, 주택담보대출에는 보통 LTV(Loan to V...</td>\n",
       "      <td>1.00000</td>\n",
       "      <td>0.371950</td>\n",
       "    </tr>\n",
       "    <tr>\n",
       "      <th>4</th>\n",
       "      <td>공매도와 관련된 불법 행위는 어떤 것들이 있나요?</td>\n",
       "      <td>공매도와 관련된 불법 행위로는 무차입 공매도, 미공개 정보 이용, 시세 조종 등이 ...</td>\n",
       "      <td>한국에서는 자동차 튜닝 시 안전기준과 환경기준을 준수해야 하며, 불법 튜닝은 처벌 ...</td>\n",
       "      <td>1.00000</td>\n",
       "      <td>0.509408</td>\n",
       "    </tr>\n",
       "    <tr>\n",
       "      <th>...</th>\n",
       "      <td>...</td>\n",
       "      <td>...</td>\n",
       "      <td>...</td>\n",
       "      <td>...</td>\n",
       "      <td>...</td>\n",
       "    </tr>\n",
       "    <tr>\n",
       "      <th>11038</th>\n",
       "      <td>기준금리와 재정 정책은 어떻게 연관되나요?</td>\n",
       "      <td>기준금리와 재정 정책은 경제 안정과 성장을 위한 두 가지 주요 정책 도구입니다. 기...</td>\n",
       "      <td>포워드 가이던스와 재정 정책이 협력할 때 경제 안정성에 중요한 이점을 제공합니다. ...</td>\n",
       "      <td>1.00000</td>\n",
       "      <td>0.308168</td>\n",
       "    </tr>\n",
       "    <tr>\n",
       "      <th>11039</th>\n",
       "      <td>현금서비스 이용 시, 120만원을 인출하고, 이자율이 23%일 때 50일 동안 사용...</td>\n",
       "      <td>이자는 \\( 120만원 \\times \\frac{23\\%}{365} \\times 50...</td>\n",
       "      <td>30대들은 주로 신용카드와 체크카드를 통해 결제합니다. 특히, 신용카드의 경우 무이...</td>\n",
       "      <td>0.04362</td>\n",
       "      <td>0.040819</td>\n",
       "    </tr>\n",
       "    <tr>\n",
       "      <th>11040</th>\n",
       "      <td>현금서비스 이용 시, 120만원을 인출하고, 이자율이 23%일 때 50일 동안 사용...</td>\n",
       "      <td>이자는 \\( 120만원 \\times \\frac{23\\%}{365} \\times 50...</td>\n",
       "      <td>네, 로스트아크 카드를 해외에서 사용할 경우 수수료가 부과될 수 있습니다. 자세한 ...</td>\n",
       "      <td>0.04362</td>\n",
       "      <td>0.040819</td>\n",
       "    </tr>\n",
       "    <tr>\n",
       "      <th>11041</th>\n",
       "      <td>현금서비스 이용 시, 120만원을 인출하고, 이자율이 23%일 때 50일 동안 사용...</td>\n",
       "      <td>이자는 \\( 120만원 \\times \\frac{23\\%}{365} \\times 50...</td>\n",
       "      <td>트레이딩 봇은 자동으로 거래를 실행하는 프로그램입니다. 사용자가 설정한 매개변수에 ...</td>\n",
       "      <td>0.04362</td>\n",
       "      <td>0.040296</td>\n",
       "    </tr>\n",
       "    <tr>\n",
       "      <th>11042</th>\n",
       "      <td>현금서비스 이용 시, 120만원을 인출하고, 이자율이 23%일 때 50일 동안 사용...</td>\n",
       "      <td>이자는 \\( 120만원 \\times \\frac{23\\%}{365} \\times 50...</td>\n",
       "      <td>체크카드 결제는 거래 시 바로 고객의 계좌에서 돈이 출금되는 반면, 신용카드 결제는...</td>\n",
       "      <td>0.04362</td>\n",
       "      <td>0.039740</td>\n",
       "    </tr>\n",
       "  </tbody>\n",
       "</table>\n",
       "<p>11043 rows × 5 columns</p>\n",
       "</div>"
      ],
      "text/plain": [
       "                                                   Query  \\\n",
       "0                         LTI 규제가 변동될 때 기존 대출의 조건도 바뀌나요?   \n",
       "1                         LTI 규제가 변동될 때 기존 대출의 조건도 바뀌나요?   \n",
       "2                         LTI 규제가 변동될 때 기존 대출의 조건도 바뀌나요?   \n",
       "3                         LTI 규제가 변동될 때 기존 대출의 조건도 바뀌나요?   \n",
       "4                            공매도와 관련된 불법 행위는 어떤 것들이 있나요?   \n",
       "...                                                  ...   \n",
       "11038                            기준금리와 재정 정책은 어떻게 연관되나요?   \n",
       "11039  현금서비스 이용 시, 120만원을 인출하고, 이자율이 23%일 때 50일 동안 사용...   \n",
       "11040  현금서비스 이용 시, 120만원을 인출하고, 이자율이 23%일 때 50일 동안 사용...   \n",
       "11041  현금서비스 이용 시, 120만원을 인출하고, 이자율이 23%일 때 50일 동안 사용...   \n",
       "11042  현금서비스 이용 시, 120만원을 인출하고, 이자율이 23%일 때 50일 동안 사용...   \n",
       "\n",
       "                                         Positive Answer  \\\n",
       "0      LTI 규제가 변동되더라도 기존에 받은 대출의 조건은 바뀌지 않습니다. 대출은 대출...   \n",
       "1      LTI 규제가 변동되더라도 기존에 받은 대출의 조건은 바뀌지 않습니다. 대출은 대출...   \n",
       "2      LTI 규제가 변동되더라도 기존에 받은 대출의 조건은 바뀌지 않습니다. 대출은 대출...   \n",
       "3      LTI 규제가 변동되더라도 기존에 받은 대출의 조건은 바뀌지 않습니다. 대출은 대출...   \n",
       "4      공매도와 관련된 불법 행위로는 무차입 공매도, 미공개 정보 이용, 시세 조종 등이 ...   \n",
       "...                                                  ...   \n",
       "11038  기준금리와 재정 정책은 경제 안정과 성장을 위한 두 가지 주요 정책 도구입니다. 기...   \n",
       "11039  이자는 \\( 120만원 \\times \\frac{23\\%}{365} \\times 50...   \n",
       "11040  이자는 \\( 120만원 \\times \\frac{23\\%}{365} \\times 50...   \n",
       "11041  이자는 \\( 120만원 \\times \\frac{23\\%}{365} \\times 50...   \n",
       "11042  이자는 \\( 120만원 \\times \\frac{23\\%}{365} \\times 50...   \n",
       "\n",
       "                                           Hard Negative  Positive Score  \\\n",
       "0      LTI 규제가 없는 상황에서는 대출 한도는 대출자의 신용 등급, 소득, 기존 부채 ...         1.00000   \n",
       "1      대출 규제가 강화되면 금융기관은 대출 금리를 인상할 가능성이 있습니다. 이는 대출의...         1.00000   \n",
       "2      금리 인하 요구권을 통해 금리가 인하된 후에도, 시장 금리 변화나 대출 조건에 따라...         1.00000   \n",
       "3      LTI는 주로 신용대출에 적용되지만, 주택담보대출에는 보통 LTV(Loan to V...         1.00000   \n",
       "4      한국에서는 자동차 튜닝 시 안전기준과 환경기준을 준수해야 하며, 불법 튜닝은 처벌 ...         1.00000   \n",
       "...                                                  ...             ...   \n",
       "11038  포워드 가이던스와 재정 정책이 협력할 때 경제 안정성에 중요한 이점을 제공합니다. ...         1.00000   \n",
       "11039  30대들은 주로 신용카드와 체크카드를 통해 결제합니다. 특히, 신용카드의 경우 무이...         0.04362   \n",
       "11040  네, 로스트아크 카드를 해외에서 사용할 경우 수수료가 부과될 수 있습니다. 자세한 ...         0.04362   \n",
       "11041  트레이딩 봇은 자동으로 거래를 실행하는 프로그램입니다. 사용자가 설정한 매개변수에 ...         0.04362   \n",
       "11042  체크카드 결제는 거래 시 바로 고객의 계좌에서 돈이 출금되는 반면, 신용카드 결제는...         0.04362   \n",
       "\n",
       "       Negative Score  \n",
       "0            0.521175  \n",
       "1            0.514133  \n",
       "2            0.378502  \n",
       "3            0.371950  \n",
       "4            0.509408  \n",
       "...               ...  \n",
       "11038        0.308168  \n",
       "11039        0.040819  \n",
       "11040        0.040819  \n",
       "11041        0.040296  \n",
       "11042        0.039740  \n",
       "\n",
       "[11043 rows x 5 columns]"
      ]
     },
     "execution_count": 6,
     "metadata": {},
     "output_type": "execute_result"
    }
   ],
   "source": [
    "mined_data"
   ]
  },
  {
   "cell_type": "markdown",
   "metadata": {},
   "source": [
    "## 1-2. Dataset - Naver Finnews"
   ]
  },
  {
   "cell_type": "code",
   "execution_count": null,
   "metadata": {},
   "outputs": [],
   "source": [
    "import pandas as pd\n",
    "from tqdm import tqdm\n",
    "import numpy as np\n",
    "\n",
    "naver_news = pd.read_csv(\"./data/naver_main_news_2024.csv\")\n",
    "naver_news.head()"
   ]
  },
  {
   "cell_type": "code",
   "execution_count": null,
   "metadata": {},
   "outputs": [],
   "source": [
    "naver_news.shape"
   ]
  },
  {
   "cell_type": "code",
   "execution_count": 3,
   "metadata": {},
   "outputs": [],
   "source": [
    "naver_news.dropna(subset=['cleaned_text'], inplace=True)"
   ]
  },
  {
   "cell_type": "code",
   "execution_count": null,
   "metadata": {},
   "outputs": [],
   "source": [
    "naver_news.shape"
   ]
  },
  {
   "cell_type": "markdown",
   "metadata": {},
   "source": [
    "- title - passage를 positive pair로"
   ]
  },
  {
   "cell_type": "code",
   "execution_count": null,
   "metadata": {},
   "outputs": [],
   "source": [
    "import ast\n",
    "\n",
    "naver_news['cleaned_text'] = naver_news['cleaned_text'].apply(lambda x : ' '.join(ast.literal_eval(x)))\n",
    "naver_news.head()"
   ]
  },
  {
   "cell_type": "code",
   "execution_count": 6,
   "metadata": {},
   "outputs": [],
   "source": [
    "news_pseudo_qa = pd.DataFrame()\n",
    "news_pseudo_qa['Query'] = naver_news['title']\n",
    "news_pseudo_qa['Answer'] = naver_news['cleaned_text']\n",
    "\n",
    "news_pseudo_qa.reset_index(drop=True, inplace=True)"
   ]
  },
  {
   "cell_type": "code",
   "execution_count": null,
   "metadata": {},
   "outputs": [],
   "source": [
    "news_pseudo_qa"
   ]
  },
  {
   "cell_type": "markdown",
   "metadata": {},
   "source": [
    "- frac = 0.1"
   ]
  },
  {
   "cell_type": "code",
   "execution_count": null,
   "metadata": {},
   "outputs": [],
   "source": [
    "news_sample = news_pseudo_qa.sample(frac=0.1).reset_index(drop=True)\n",
    "news_sample"
   ]
  },
  {
   "cell_type": "code",
   "execution_count": 25,
   "metadata": {},
   "outputs": [],
   "source": [
    "news_sample.to_csv(\"./data/news_sample.csv\", index=False)"
   ]
  },
  {
   "cell_type": "code",
   "execution_count": null,
   "metadata": {},
   "outputs": [],
   "source": [
    "# 전체\n",
    "# 데이터 준비\n",
    "queries, answers = prepare_data(news_sample)\n",
    "\n",
    "# BM25 모델 초기화\n",
    "bm25 = initialize_bm25(answers)\n",
    "\n",
    "# Hard Negative Mining 실행\n",
    "mined_data = mine_hard_negatives(news_sample, bm25)\n",
    "\n",
    "mined_data.to_csv(\"./data/NaverNews_bm25_sample_hard_negative.csv\", index=False)"
   ]
  },
  {
   "cell_type": "code",
   "execution_count": null,
   "metadata": {},
   "outputs": [],
   "source": [
    "# 전체\n",
    "# 데이터 준비\n",
    "queries, answers = prepare_data(news_pseudo_qa)\n",
    "\n",
    "# BM25 모델 초기화\n",
    "bm25 = initialize_bm25(answers)\n",
    "\n",
    "# Hard Negative Mining 실행\n",
    "mined_data = mine_hard_negatives(news_pseudo_qa, bm25)\n",
    "\n",
    "mined_data.to_csv(\"./data/NaverNews_bm25_hard_negative.csv\", index=False)"
   ]
  },
  {
   "cell_type": "markdown",
   "metadata": {},
   "source": [
    "## BM25를 다른 방식으로 시도?\n",
    "\n",
    "- top-k 100에서 softmax 취하기 -> 전체에서 할 경우 너무 극단적임"
   ]
  },
  {
   "cell_type": "code",
   "execution_count": null,
   "metadata": {},
   "outputs": [],
   "source": []
  }
 ],
 "metadata": {
  "kernelspec": {
   "display_name": "finance",
   "language": "python",
   "name": "python3"
  },
  "language_info": {
   "codemirror_mode": {
    "name": "ipython",
    "version": 3
   },
   "file_extension": ".py",
   "mimetype": "text/x-python",
   "name": "python",
   "nbconvert_exporter": "python",
   "pygments_lexer": "ipython3",
   "version": "3.11.11"
  }
 },
 "nbformat": 4,
 "nbformat_minor": 2
}
